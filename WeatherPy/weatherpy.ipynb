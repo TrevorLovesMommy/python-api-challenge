{
 "cells": [
  {
   "cell_type": "code",
   "execution_count": 1,
   "metadata": {},
   "outputs": [
    {
     "data": {
      "text/plain": [
       "'6f4ceb243793f6a90aeed94e4f17b8a4'"
      ]
     },
     "execution_count": 1,
     "metadata": {},
     "output_type": "execute_result"
    }
   ],
   "source": [
    "import json\n",
    "import requests\n",
    "import pandas as pd\n",
    "import numpy as np\n",
    "import matplotlib.pyplot as plt\n",
    "import time\n",
    "from pprint import pprint\n",
    "import openweathermapy.core as owm\n",
    "from citipy import citipy\n",
    "import random as random\n",
    "\n",
    "# Import API key\n",
    "from config import api_key\n",
    "\n",
    "# Incorporated citipy to determine city based on latitude and longitude\n",
    "from citipy import citipy\n",
    "\n",
    "# Output File (CSV)\n",
    "output_data_file = \"output_data/cities.csv\"\n",
    "\n",
    "# Range of latitudes and longitudes\n",
    "lat_range = (-90, 90)\n",
    "lng_range = (-180, 180)\n",
    "api_key"
   ]
  },
  {
   "cell_type": "markdown",
   "metadata": {},
   "source": [
    "## Generate Cities list"
   ]
  },
  {
   "cell_type": "code",
   "execution_count": 2,
   "metadata": {},
   "outputs": [
    {
     "name": "stdout",
     "output_type": "stream",
     "text": [
      "length of cities is 625\n",
      "length of city_lat is 625\n"
     ]
    }
   ],
   "source": [
    "# List for holding lat_lngs and cities\n",
    "lat_lngs = []\n",
    "cities = []\n",
    "\n",
    "# Create a set of random lat and lng combinations\n",
    "lats = np.random.uniform(low=-90.000, high=90.000, size=1500) #size 1500\n",
    "lngs = np.random.uniform(low=-180.000, high=180.000, size=1500) #size 1500\n",
    "#zip in to a list of tuples\n",
    "lat_lngs = zip(lats, lngs)\n",
    "city_lat=[]\n",
    "#to print zipped object\n",
    "#for i in lat_lngs:\n",
    "#    print(i)\n",
    "\n",
    "# Identify nearest city for each lat, lng combination\n",
    "for lat_lng in lat_lngs:\n",
    "    city = citipy.nearest_city(lat_lng[0], lat_lng[1]).city_name\n",
    "    \n",
    "    # If the city is unique, then add it to a our cities list\n",
    "    if city not in cities:\n",
    "        cities.append(city)\n",
    "        city_lat.append(lat_lng[0])\n",
    "\n",
    "# Print the city count to confirm sufficient count\n",
    "print(f\"length of cities is {len(cities)}\")\n",
    "print(f\"length of city_lat is {len(city_lat)}\")\n",
    "\n"
   ]
  },
  {
   "cell_type": "code",
   "execution_count": 3,
   "metadata": {},
   "outputs": [],
   "source": [
    "MYDEBUG = True"
   ]
  },
  {
   "cell_type": "markdown",
   "metadata": {},
   "source": [
    "## Perform API Calls"
   ]
  },
  {
   "cell_type": "code",
   "execution_count": 4,
   "metadata": {},
   "outputs": [
    {
     "name": "stdout",
     "output_type": "stream",
     "text": [
      "Getting data for city number 0, cervo\n"
     ]
    }
   ],
   "source": [
    "#save config information\n",
    "url = \"http://api.openweathermap.org/data/2.5/weather?\"\n",
    "units = \"imperial\" #use imperial to get farenheit\n",
    "\n",
    "#build partial string query URL\n",
    "query_url = f\"{url}appid={api_key}&units={units}&q=\"\n",
    "\n",
    "#initialize lists to hold temperature, humidity clouds, wind, valid cities, invalid cities and valid latitudes\n",
    "temp = []\n",
    "humidity= []\n",
    "clouds = []\n",
    "wind = []\n",
    "city_not_found=[]\n",
    "valid_cities=[]\n",
    "valid_lat=[]\n",
    "\n",
    "with open(\"text.txt\",\"w\")as text:\n",
    "    for i in range(len(cities)):\n",
    "        response = requests.get(query_url+cities[i]).json()\n",
    "    \n",
    "        if response[\"cod\"] == \"404\":\n",
    "            print(f\"city number {i}, {cities[i]} is not found\", file=text)\n",
    "            print(f\"city number {i}, {cities[i]} is not found\")\n",
    "            city_not_found.append(cities[i])\n",
    "        else:\n",
    "            print(f\"Getting data for city number {i}, {cities[i]}\", file=text)\n",
    "            print(f\"Getting data for city number {i}, {cities[i]}\")\n",
    "            valid_cities.append(cities[i])\n",
    "            valid_lat.append(city_lat[i])\n",
    "            temp.append(response[\"main\"][\"temp\"])\n",
    "            humidity.append(response[\"main\"][\"humidity\"])\n",
    "            clouds.append(response[\"clouds\"][\"all\"])\n",
    "            wind.append(response[\"wind\"][\"speed\"]) \n",
    "        if MYDEBUG:\n",
    "            break\n",
    "text.close()\n",
    "#print(f\"cities list {valid_cities}, len {len(valid_cities)}\")  \n",
    "#print(f\"temp list {temp}, len {len(temp)}\")\n",
    "#print(f\"humidity list {humidity}, len {len(humidity)}\")\n",
    "#print(f\"clouds list {clouds}, len {len(clouds)}\")\n",
    "#print(f\"wind list {wind}, len {len(wind)}\")\n",
    "#print(f\"valid city lat{valid_lat}, len {len(valid_lat)}\")"
   ]
  },
  {
   "cell_type": "markdown",
   "metadata": {},
   "source": [
    "## Create master table"
   ]
  },
  {
   "cell_type": "code",
   "execution_count": 5,
   "metadata": {},
   "outputs": [
    {
     "data": {
      "text/html": [
       "<div>\n",
       "<style scoped>\n",
       "    .dataframe tbody tr th:only-of-type {\n",
       "        vertical-align: middle;\n",
       "    }\n",
       "\n",
       "    .dataframe tbody tr th {\n",
       "        vertical-align: top;\n",
       "    }\n",
       "\n",
       "    .dataframe thead th {\n",
       "        text-align: right;\n",
       "    }\n",
       "</style>\n",
       "<table border=\"1\" class=\"dataframe\">\n",
       "  <thead>\n",
       "    <tr style=\"text-align: right;\">\n",
       "      <th></th>\n",
       "      <th>Cities</th>\n",
       "      <th>Temperature</th>\n",
       "      <th>Humidity</th>\n",
       "      <th>Cloudiness</th>\n",
       "      <th>Wind Speed</th>\n",
       "      <th>Latitude</th>\n",
       "    </tr>\n",
       "  </thead>\n",
       "  <tbody>\n",
       "    <tr>\n",
       "      <td>0</td>\n",
       "      <td>cervo</td>\n",
       "      <td>65.71</td>\n",
       "      <td>95</td>\n",
       "      <td>100</td>\n",
       "      <td>1.79</td>\n",
       "      <td>46.212968</td>\n",
       "    </tr>\n",
       "  </tbody>\n",
       "</table>\n",
       "</div>"
      ],
      "text/plain": [
       "  Cities  Temperature  Humidity  Cloudiness  Wind Speed   Latitude\n",
       "0  cervo        65.71        95         100        1.79  46.212968"
      ]
     },
     "execution_count": 5,
     "metadata": {},
     "output_type": "execute_result"
    }
   ],
   "source": [
    "#create dictionary of cities, temp, humidity, clouds, and wind\n",
    "d = {\"Cities\": valid_cities, \"Temperature\": temp, \"Humidity\": humidity, \"Cloudiness\": clouds, \"Wind Speed\": wind, \"Latitude\":valid_lat}\n",
    "\n",
    "#convert dictionary to dataframe\n",
    "df = pd.DataFrame(d)\n",
    "\n",
    "#save csv of all valid data retrieved\n",
    "df.to_csv(\"data_retrieved.csv\")\n",
    "df.head()"
   ]
  },
  {
   "cell_type": "markdown",
   "metadata": {},
   "source": [
    "## Plot tables"
   ]
  },
  {
   "cell_type": "code",
   "execution_count": 6,
   "metadata": {},
   "outputs": [
    {
     "data": {
      "image/png": "[encoded data removed]",
      "text/plain": [
       "<Figure size 432x288 with 1 Axes>"
      ]
     },
     "metadata": {
      "needs_background": "light"
     },
     "output_type": "display_data"
    },
    {
     "data": {
      "image/png": "[encoded data removed]",
      "text/plain": [
       "<Figure size 432x288 with 1 Axes>"
      ]
     },
     "metadata": {
      "needs_background": "light"
     },
     "output_type": "display_data"
    },
    {
     "data": {
      "image/png": "[encoded data removed]",
      "text/plain": [
       "<Figure size 432x288 with 1 Axes>"
      ]
     },
     "metadata": {
      "needs_background": "light"
     },
     "output_type": "display_data"
    },
    {
     "data": {
      "image/png": "[encoded data removed]",
      "text/plain": [
       "<Figure size 432x288 with 1 Axes>"
      ]
     },
     "metadata": {
      "needs_background": "light"
     },
     "output_type": "display_data"
    }
   ],
   "source": [
    "#plot latitude and temperature\n",
    "df.plot(kind=\"scatter\", x=\"Latitude\", y=\"Temperature\")\n",
    "plt.title(\"Tempurature (F) vs. Latitude\")\n",
    "plt.grid(alpha=1)\n",
    "plt.savefig(\"Images/temp_latitude.png\")\n",
    "plt.show()\n",
    "\n",
    "#plot latitude and humidity\n",
    "df.plot(kind=\"scatter\", x=\"Latitude\", y=\"Humidity\")\n",
    "plt.title(\"Humidity(%) vs. Latitude\")\n",
    "plt.grid(alpha=1)\n",
    "plt.savefig(\"Images/humidity_latitude.png\")\n",
    "plt.show()\n",
    "\n",
    "#plot Cloudiness and humidity\n",
    "df.plot(kind=\"scatter\", x=\"Latitude\", y=\"Cloudiness\")\n",
    "plt.title(\"Cloudiness(%) vs. Latitude\")\n",
    "plt.grid(alpha=1)\n",
    "plt.savefig(\"Images/cloudiness_latitude.png\")\n",
    "plt.show()\n",
    "\n",
    "#plot Cloudiness and humidity\n",
    "df.plot(kind=\"scatter\", x=\"Latitude\", y=\"Wind Speed\")\n",
    "plt.title(\"Wind Speed (mph) vs. Latitude\")\n",
    "plt.grid(alpha=1)\n",
    "plt.savefig(\"Images/wind_latitude.png\")\n",
    "plt.show()"
   ]
  },
  {
   "cell_type": "code",
   "execution_count": 7,
   "metadata": {},
   "outputs": [
    {
     "name": "stdout",
     "output_type": "stream",
     "text": [
      "{'base': 'stations',\n",
      " 'clouds': {'all': 90},\n",
      " 'cod': 200,\n",
      " 'coord': {'lat': 48.86, 'lon': 2.35},\n",
      " 'dt': 1578460500,\n",
      " 'id': 2988507,\n",
      " 'main': {'feels_like': 45.66,\n",
      "          'humidity': 87,\n",
      "          'pressure': 1026,\n",
      "          'temp': 52.38,\n",
      "          'temp_max': 53.6,\n",
      "          'temp_min': 51.01},\n",
      " 'name': 'Paris',\n",
      " 'sys': {'country': 'FR',\n",
      "         'id': 6540,\n",
      "         'sunrise': 1578469365,\n",
      "         'sunset': 1578499853,\n",
      "         'type': 1},\n",
      " 'timezone': 3600,\n",
      " 'visibility': 10000,\n",
      " 'weather': [{'description': 'overcast clouds',\n",
      "              'icon': '04n',\n",
      "              'id': 804,\n",
      "              'main': 'Clouds'}],\n",
      " 'wind': {'deg': 230, 'speed': 11.41}}\n"
     ]
    }
   ],
   "source": [
    "#Get sample response for reference\n",
    "\n",
    "response=requests.get(\"http://api.openweathermap.org/data/2.5/weather?appid=6f4ceb243793f6a90aeed94e4f17b8a4&units=imperial&q=paris\").json()\n",
    "pprint(response)\n"
   ]
  },
  {
   "cell_type": "code",
   "execution_count": null,
   "metadata": {},
   "outputs": [],
   "source": []
  },
  {
   "cell_type": "code",
   "execution_count": null,
   "metadata": {},
   "outputs": [],
   "source": []
  }
 ],
 "metadata": {
  "kernelspec": {
   "display_name": "Python 3",
   "language": "python",
   "name": "python3"
  },
  "language_info": {
   "codemirror_mode": {
    "name": "ipython",
    "version": 3
   },
   "file_extension": ".py",
   "mimetype": "text/x-python",
   "name": "python",
   "nbconvert_exporter": "python",
   "pygments_lexer": "ipython3",
   "version": "3.7.4"
  }
 },
 "nbformat": 4,
 "nbformat_minor": 2
}
