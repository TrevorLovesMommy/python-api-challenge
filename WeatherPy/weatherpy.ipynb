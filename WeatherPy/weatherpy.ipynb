{
 "cells": [
  {
   "cell_type": "code",
   "execution_count": 48,
   "metadata": {},
   "outputs": [
    {
     "data": {
      "text/plain": [
       "'6f4ceb243793f6a90aeed94e4f17b8a4'"
      ]
     },
     "execution_count": 48,
     "metadata": {},
     "output_type": "execute_result"
    }
   ],
   "source": [
    "import json\n",
    "import requests\n",
    "import pandas as pd\n",
    "import numpy as np\n",
    "import matplotlib.pyplot as plt\n",
    "import time\n",
    "from pprint import pprint\n",
    "import openweathermapy.core as owm\n",
    "from citipy import citipy\n",
    "import random as random\n",
    "\n",
    "# Import API key\n",
    "from config import api_key\n",
    "\n",
    "# Incorporated citipy to determine city based on latitude and longitude\n",
    "from citipy import citipy\n",
    "\n",
    "# Output File (CSV)\n",
    "output_data_file = \"output_data/cities.csv\"\n",
    "\n",
    "# Range of latitudes and longitudes\n",
    "lat_range = (-90, 90)\n",
    "lng_range = (-180, 180)\n",
    "api_key"
   ]
  },
  {
   "cell_type": "markdown",
   "metadata": {},
   "source": [
    "## Generate Cities list"
   ]
  },
  {
   "cell_type": "code",
   "execution_count": 64,
   "metadata": {},
   "outputs": [
    {
     "data": {
      "text/plain": [
       "['saint-philippe',\n",
       " 'portland',\n",
       " 'anadyr',\n",
       " 'tilichiki',\n",
       " 'port elizabeth',\n",
       " 'cabedelo',\n",
       " 'busselton',\n",
       " 'puerto ayora',\n",
       " 'fayetteville',\n",
       " 'tasiilaq']"
      ]
     },
     "execution_count": 64,
     "metadata": {},
     "output_type": "execute_result"
    }
   ],
   "source": [
    "# List for holding lat_lngs and cities\n",
    "lat_lngs = []\n",
    "cities = []\n",
    "\n",
    "# Create a set of random lat and lng combinations\n",
    "lats = np.random.uniform(low=-90.000, high=90.000, size=10) #size 1500\n",
    "lngs = np.random.uniform(low=-180.000, high=180.000, size=10) #size 1500\n",
    "#zip in to a list of tuples\n",
    "lat_lngs = zip(lats, lngs)\n",
    "\n",
    "#to print zipped object\n",
    "#for i in lat_lngs:\n",
    "#    print(i)\n",
    "\n",
    "# Identify nearest city for each lat, lng combination\n",
    "for lat_lng in lat_lngs:\n",
    "    city = citipy.nearest_city(lat_lng[0], lat_lng[1]).city_name\n",
    "    \n",
    "    # If the city is unique, then add it to a our cities list\n",
    "    if city not in cities:\n",
    "        cities.append(city)\n",
    "\n",
    "# Print the city count to confirm sufficient count\n",
    "len(cities)\n",
    "cities"
   ]
  },
  {
   "cell_type": "code",
   "execution_count": 50,
   "metadata": {},
   "outputs": [],
   "source": []
  },
  {
   "cell_type": "markdown",
   "metadata": {},
   "source": [
    "## Perform API Calls"
   ]
  },
  {
   "cell_type": "code",
   "execution_count": 62,
   "metadata": {},
   "outputs": [
    {
     "name": "stdout",
     "output_type": "stream",
     "text": [
      "Getting data for city number 0, ancud\n",
      "{'coord': {'lon': -73.83, 'lat': -41.87}, 'weather': [{'id': 520, 'main': 'Rain', 'description': 'light intensity shower rain', 'icon': '09d'}], 'base': 'stations', 'main': {'temp': 55.4, 'feels_like': 48.74, 'temp_min': 55.4, 'temp_max': 55.4, 'pressure': 1015, 'humidity': 87}, 'visibility': 10000, 'wind': {'speed': 12.75, 'deg': 340}, 'clouds': {'all': 90}, 'dt': 1578342408, 'sys': {'type': 1, 'id': 8512, 'country': 'CL', 'sunrise': 1578302893, 'sunset': 1578357200}, 'timezone': -10800, 'id': 3899695, 'name': 'Ancud', 'cod': 200}\n",
      "temp list [55.4]\n",
      "humidity list [87]\n",
      "clouds list [90]\n",
      "wind list [12.75]\n",
      "Getting data for city number 1, norman wells\n",
      "{'coord': {'lon': -126.83, 'lat': 65.28}, 'weather': [{'id': 801, 'main': 'Clouds', 'description': 'few clouds', 'icon': '02d'}], 'base': 'stations', 'main': {'temp': -41.8, 'feels_like': -50.19, 'temp_min': -41.8, 'temp_max': -41.8, 'pressure': 1029, 'humidity': 72}, 'visibility': 32186, 'wind': {'speed': 2.24}, 'clouds': {'all': 20}, 'dt': 1578342408, 'sys': {'type': 1, 'id': 951, 'country': 'CA', 'sunrise': 1578335487, 'sunset': 1578350054}, 'timezone': -25200, 'id': 6089245, 'name': 'Norman Wells', 'cod': 200}\n",
      "temp list [55.4, -41.8]\n",
      "humidity list [87, 72]\n",
      "clouds list [90, 20]\n",
      "wind list [12.75, 2.24]\n",
      "Getting data for city number 2, teya\n",
      "{'coord': {'lon': -89.07, 'lat': 21.05}, 'weather': [{'id': 803, 'main': 'Clouds', 'description': 'broken clouds', 'icon': '04d'}], 'base': 'stations', 'main': {'temp': 78.67, 'feels_like': 77.45, 'temp_min': 77, 'temp_max': 80.01, 'pressure': 1019, 'humidity': 53}, 'visibility': 11265, 'wind': {'speed': 8.05, 'deg': 20}, 'clouds': {'all': 75}, 'dt': 1578341967, 'sys': {'type': 1, 'id': 7140, 'country': 'MX', 'sunrise': 1578314076, 'sunset': 1578353334}, 'timezone': -21600, 'id': 3526662, 'name': 'Teya', 'cod': 200}\n",
      "temp list [55.4, -41.8, 78.67]\n",
      "humidity list [87, 72, 53]\n",
      "clouds list [90, 20, 75]\n",
      "wind list [12.75, 2.24, 8.05]\n",
      "city number 3, belushya guba is not found\n",
      "Getting data for city number 4, bethel\n",
      "{'coord': {'lon': -161.76, 'lat': 60.79}, 'weather': [{'id': 800, 'main': 'Clear', 'description': 'clear sky', 'icon': '01d'}], 'base': 'stations', 'main': {'temp': -20.16, 'feels_like': -32.31, 'temp_min': -22, 'temp_max': -18.4, 'pressure': 1020, 'humidity': 68}, 'visibility': 16093, 'wind': {'speed': 9.17, 'deg': 20}, 'clouds': {'all': 1}, 'dt': 1578342334, 'sys': {'type': 1, 'id': 7640, 'country': 'US', 'sunrise': 1578340391, 'sunset': 1578361921}, 'timezone': -32400, 'id': 5880568, 'name': 'Bethel', 'cod': 200}\n",
      "temp list [55.4, -41.8, 78.67, -20.16]\n",
      "humidity list [87, 72, 53, 68]\n",
      "clouds list [90, 20, 75, 1]\n",
      "wind list [12.75, 2.24, 8.05, 9.17]\n"
     ]
    },
    {
     "data": {
      "text/plain": [
       "['belushya guba']"
      ]
     },
     "execution_count": 62,
     "metadata": {},
     "output_type": "execute_result"
    }
   ],
   "source": [
    "#save config information\n",
    "url = \"http://api.openweathermap.org/data/2.5/weather?\"\n",
    "units = \"imperial\" #use imperial to get farenheit\n",
    "\n",
    "#build partial string query URL\n",
    "query_url = f\"{url}appid={api_key}&units={units}&q=\"\n",
    "query_url\n",
    "\n",
    "#initialize lists to hold temp, humidity clouds and wind\n",
    "temp = []\n",
    "humidity= []\n",
    "clouds = []\n",
    "wind = []\n",
    "city_not_found=[]\n",
    "\n",
    "for i in range (0,5):\n",
    "    response = requests.get(query_url+cities[i]).json()\n",
    "    \n",
    "    if response[\"cod\"] == \"404\":\n",
    "        print(f\"city number {i}, {cities[i]} is not found\")\n",
    "        city_not_found.append(cities[i])\n",
    "    else:\n",
    "        print(f\"Getting data for city number {i}, {cities[i]}\")\n",
    "        print(response)\n",
    "        temp.append(response[\"main\"][\"temp\"])\n",
    "        humidity.append(response[\"main\"][\"humidity\"])\n",
    "        clouds.append(response[\"clouds\"][\"all\"])\n",
    "        wind.append(response[\"wind\"][\"speed\"])\n",
    "        print(f\"temp list {temp}\")\n",
    "        print(f\"humidity list {humidity}\")\n",
    "        print(f\"clouds list {clouds}\")\n",
    "        print(f\"wind list {wind}\")\n",
    "        #pprint(response)\n",
    "\n",
    "\n",
    "city_not_found\n",
    "\n",
    "#temp = response[\"main\"][\"temp\"]\n",
    "#humidity = response[\"main\"][\"humidity\"]\n",
    "#clouds = response[\"clouds\"][\"all\"]\n",
    "#wind = response[\"wind\"][\"speed\"]"
   ]
  },
  {
   "cell_type": "code",
   "execution_count": 31,
   "metadata": {},
   "outputs": [
    {
     "data": {
      "text/plain": [
       "11"
      ]
     },
     "execution_count": 31,
     "metadata": {},
     "output_type": "execute_result"
    }
   ],
   "source": []
  },
  {
   "cell_type": "code",
   "execution_count": null,
   "metadata": {},
   "outputs": [],
   "source": []
  },
  {
   "cell_type": "code",
   "execution_count": null,
   "metadata": {},
   "outputs": [],
   "source": []
  },
  {
   "cell_type": "code",
   "execution_count": 12,
   "metadata": {},
   "outputs": [
    {
     "name": "stdout",
     "output_type": "stream",
     "text": [
      "{'base': 'stations',\n",
      " 'clouds': {'all': 90},\n",
      " 'cod': 200,\n",
      " 'coord': {'lat': 48.86, 'lon': 2.35},\n",
      " 'dt': 1578338058,\n",
      " 'id': 2988507,\n",
      " 'main': {'feels_like': 30.51,\n",
      "          'humidity': 75,\n",
      "          'pressure': 1025,\n",
      "          'temp': 41,\n",
      "          'temp_max': 42.01,\n",
      "          'temp_min': 39.99},\n",
      " 'name': 'Paris',\n",
      " 'sys': {'country': 'FR',\n",
      "         'id': 6540,\n",
      "         'sunrise': 1578296602,\n",
      "         'sunset': 1578326913,\n",
      "         'type': 1},\n",
      " 'timezone': 3600,\n",
      " 'visibility': 10000,\n",
      " 'weather': [{'description': 'overcast clouds',\n",
      "              'icon': '04n',\n",
      "              'id': 804,\n",
      "              'main': 'Clouds'}],\n",
      " 'wind': {'deg': 230, 'speed': 12.75}}\n"
     ]
    }
   ],
   "source": [
    "#Get sample response for reference\n",
    "\n",
    "response=requests.get(\"http://api.openweathermap.org/data/2.5/weather?appid=6f4ceb243793f6a90aeed94e4f17b8a4&units=imperial&q=paris\").json()\n",
    "pprint(response)\n"
   ]
  }
 ],
 "metadata": {
  "kernelspec": {
   "display_name": "Python 3",
   "language": "python",
   "name": "python3"
  },
  "language_info": {
   "codemirror_mode": {
    "name": "ipython",
    "version": 3
   },
   "file_extension": ".py",
   "mimetype": "text/x-python",
   "name": "python",
   "nbconvert_exporter": "python",
   "pygments_lexer": "ipython3",
   "version": "3.7.4"
  }
 },
 "nbformat": 4,
 "nbformat_minor": 2
}
