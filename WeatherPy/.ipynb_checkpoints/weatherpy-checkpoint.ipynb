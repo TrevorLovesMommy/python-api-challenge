{
 "cells": [
  {
   "cell_type": "code",
   "execution_count": 105,
   "metadata": {},
   "outputs": [
    {
     "data": {
      "text/plain": [
       "'6f4ceb243793f6a90aeed94e4f17b8a4'"
      ]
     },
     "execution_count": 105,
     "metadata": {},
     "output_type": "execute_result"
    }
   ],
   "source": [
    "import json\n",
    "import requests\n",
    "import pandas as pd\n",
    "import numpy as np\n",
    "import matplotlib.pyplot as plt\n",
    "import time\n",
    "from pprint import pprint\n",
    "import openweathermapy.core as owm\n",
    "from citipy import citipy\n",
    "import random as random\n",
    "\n",
    "# Import API key\n",
    "from config import api_key\n",
    "\n",
    "# Incorporated citipy to determine city based on latitude and longitude\n",
    "from citipy import citipy\n",
    "\n",
    "# Output File (CSV)\n",
    "output_data_file = \"output_data/cities.csv\"\n",
    "\n",
    "# Range of latitudes and longitudes\n",
    "lat_range = (-90, 90)\n",
    "lng_range = (-180, 180)\n",
    "api_key"
   ]
  },
  {
   "cell_type": "markdown",
   "metadata": {},
   "source": [
    "## Generate Cities list"
   ]
  },
  {
   "cell_type": "code",
   "execution_count": 106,
   "metadata": {},
   "outputs": [
    {
     "name": "stdout",
     "output_type": "stream",
     "text": [
      "length of cities is 10\n",
      "length of city_lat is 10\n"
     ]
    }
   ],
   "source": [
    "# List for holding lat_lngs and cities\n",
    "lat_lngs = []\n",
    "cities = []\n",
    "\n",
    "# Create a set of random lat and lng combinations\n",
    "lats = np.random.uniform(low=-90.000, high=90.000, size=10) #size 1500\n",
    "lngs = np.random.uniform(low=-180.000, high=180.000, size=10) #size 1500\n",
    "#zip in to a list of tuples\n",
    "lat_lngs = zip(lats, lngs)\n",
    "city_lat=[]\n",
    "#to print zipped object\n",
    "#for i in lat_lngs:\n",
    "#    print(i)\n",
    "\n",
    "# Identify nearest city for each lat, lng combination\n",
    "for lat_lng in lat_lngs:\n",
    "    city = citipy.nearest_city(lat_lng[0], lat_lng[1]).city_name\n",
    "    \n",
    "    # If the city is unique, then add it to a our cities list\n",
    "    if city not in cities:\n",
    "        cities.append(city)\n",
    "        city_lat.append(lat_lng[0])\n",
    "\n",
    "# Print the city count to confirm sufficient count\n",
    "print(f\"length of cities is {len(cities)}\")\n",
    "print(f\"length of city_lat is {len(city_lat)}\")\n",
    "\n"
   ]
  },
  {
   "cell_type": "markdown",
   "metadata": {},
   "source": [
    "## Perform API Calls"
   ]
  },
  {
   "cell_type": "code",
   "execution_count": 109,
   "metadata": {},
   "outputs": [
    {
     "name": "stdout",
     "output_type": "stream",
     "text": [
      "Getting data for city number 0, saint-philippe\n",
      "Getting data for city number 1, qaanaaq\n",
      "Getting data for city number 2, pitimbu\n",
      "Getting data for city number 3, atuona\n",
      "Getting data for city number 4, kapaa\n",
      "Getting data for city number 5, saskylakh\n",
      "Getting data for city number 6, nouadhibou\n",
      "city number 7, taolanaro is not found\n",
      "Getting data for city number 8, dikson\n",
      "Getting data for city number 9, aklavik\n",
      "cities list ['saint-philippe', 'qaanaaq', 'pitimbu', 'atuona', 'kapaa', 'saskylakh', 'nouadhibou', 'dikson', 'aklavik'], len 9\n",
      "temp list [19.09, -10.62, 82.4, 79.86, 78.49, 3.42, 64.4, 13.03, -30.71], len 9\n",
      "humidity list [85, 55, 74, 72, 74, 93, 59, 94, 73], len 9\n",
      "clouds list [90, 50, 20, 0, 90, 100, 100, 100, 20], len 9\n",
      "wind list [8.05, 8.77, 10.29, 14.79, 24.16, 5.46, 18.34, 12.39, 3.36], len 9\n",
      "valid city lat[-60.81465006880187, 81.14412934270305, -7.683021433622429, -0.37730749238927785, 19.357146529355518, 87.08472743294496, 21.055365104940833, 74.26938742135934, 67.55548140473715], len 9\n"
     ]
    },
    {
     "data": {
      "text/plain": [
       "['taolanaro']"
      ]
     },
     "execution_count": 109,
     "metadata": {},
     "output_type": "execute_result"
    }
   ],
   "source": [
    "#save config information\n",
    "url = \"http://api.openweathermap.org/data/2.5/weather?\"\n",
    "units = \"imperial\" #use imperial to get farenheit\n",
    "\n",
    "#build partial string query URL\n",
    "query_url = f\"{url}appid={api_key}&units={units}&q=\"\n",
    "query_url\n",
    "\n",
    "#initialize lists to hold temp, humidity clouds, wind, valid cities, invalid cities and valid latitudes\n",
    "temp = []\n",
    "humidity= []\n",
    "clouds = []\n",
    "wind = []\n",
    "city_not_found=[]\n",
    "valid_cities=[]\n",
    "valid_lat=[]\n",
    "\n",
    "for i in range(len(cities)):\n",
    "    response = requests.get(query_url+cities[i]).json()\n",
    "    \n",
    "    if response[\"cod\"] == \"404\":\n",
    "        print(f\"city number {i}, {cities[i]} is not found\")\n",
    "        city_not_found.append(cities[i])\n",
    "    else:\n",
    "        print(f\"Getting data for city number {i}, {cities[i]}\")\n",
    "        valid_cities.append(cities[i])\n",
    "        valid_lat.append(city_lat[i])\n",
    "        temp.append(response[\"main\"][\"temp\"])\n",
    "        humidity.append(response[\"main\"][\"humidity\"])\n",
    "        clouds.append(response[\"clouds\"][\"all\"])\n",
    "        wind.append(response[\"wind\"][\"speed\"])\n",
    "\n",
    "\n",
    "print(f\"cities list {valid_cities}, len {len(valid_cities)}\")  \n",
    "print(f\"temp list {temp}, len {len(temp)}\")\n",
    "print(f\"humidity list {humidity}, len {len(humidity)}\")\n",
    "print(f\"clouds list {clouds}, len {len(clouds)}\")\n",
    "print(f\"wind list {wind}, len {len(wind)}\")\n",
    "print(f\"valid city lat{valid_lat}, len {len(valid_lat)}\")\n",
    "\n",
    "city_not_found\n"
   ]
  },
  {
   "cell_type": "markdown",
   "metadata": {},
   "source": [
    "## Create master table"
   ]
  },
  {
   "cell_type": "code",
   "execution_count": 96,
   "metadata": {},
   "outputs": [
    {
     "data": {
      "text/html": [
       "<div>\n",
       "<style scoped>\n",
       "    .dataframe tbody tr th:only-of-type {\n",
       "        vertical-align: middle;\n",
       "    }\n",
       "\n",
       "    .dataframe tbody tr th {\n",
       "        vertical-align: top;\n",
       "    }\n",
       "\n",
       "    .dataframe thead th {\n",
       "        text-align: right;\n",
       "    }\n",
       "</style>\n",
       "<table border=\"1\" class=\"dataframe\">\n",
       "  <thead>\n",
       "    <tr style=\"text-align: right;\">\n",
       "      <th></th>\n",
       "      <th>Cities</th>\n",
       "      <th>Temperature</th>\n",
       "      <th>Humidity</th>\n",
       "      <th>Clouds</th>\n",
       "      <th>Wind</th>\n",
       "    </tr>\n",
       "  </thead>\n",
       "  <tbody>\n",
       "    <tr>\n",
       "      <td>0</td>\n",
       "      <td>ushuaia</td>\n",
       "      <td>52.05</td>\n",
       "      <td>66</td>\n",
       "      <td>75</td>\n",
       "      <td>3.36</td>\n",
       "    </tr>\n",
       "    <tr>\n",
       "      <td>1</td>\n",
       "      <td>ajdabiya</td>\n",
       "      <td>55.02</td>\n",
       "      <td>64</td>\n",
       "      <td>99</td>\n",
       "      <td>19.35</td>\n",
       "    </tr>\n",
       "    <tr>\n",
       "      <td>2</td>\n",
       "      <td>butaritari</td>\n",
       "      <td>85.08</td>\n",
       "      <td>79</td>\n",
       "      <td>100</td>\n",
       "      <td>19.01</td>\n",
       "    </tr>\n",
       "    <tr>\n",
       "      <td>3</td>\n",
       "      <td>itarema</td>\n",
       "      <td>80.17</td>\n",
       "      <td>75</td>\n",
       "      <td>8</td>\n",
       "      <td>6.13</td>\n",
       "    </tr>\n",
       "    <tr>\n",
       "      <td>4</td>\n",
       "      <td>saint george</td>\n",
       "      <td>37.40</td>\n",
       "      <td>51</td>\n",
       "      <td>20</td>\n",
       "      <td>11.41</td>\n",
       "    </tr>\n",
       "  </tbody>\n",
       "</table>\n",
       "</div>"
      ],
      "text/plain": [
       "         Cities  Temperature  Humidity  Clouds   Wind\n",
       "0       ushuaia        52.05        66      75   3.36\n",
       "1      ajdabiya        55.02        64      99  19.35\n",
       "2    butaritari        85.08        79     100  19.01\n",
       "3       itarema        80.17        75       8   6.13\n",
       "4  saint george        37.40        51      20  11.41"
      ]
     },
     "execution_count": 96,
     "metadata": {},
     "output_type": "execute_result"
    }
   ],
   "source": [
    "#create dictionary of cities, temp, humidity, clouds, and wind\n",
    "d = {\"Cities\": valid_cities, \"Temperature\": temp, \"Humidity\": humidity, \"Clouds\": clouds, \"Wind\": wind}\n",
    "\n",
    "#convert dictionary to dataframe\n",
    "df = pd.DataFrame(d)\n",
    "df.head()\n",
    "\n",
    "#save csv of all data retrieved\n",
    "df.to_csv(\"data_retrieved.csv\")"
   ]
  },
  {
   "cell_type": "code",
   "execution_count": null,
   "metadata": {},
   "outputs": [],
   "source": []
  },
  {
   "cell_type": "code",
   "execution_count": 12,
   "metadata": {},
   "outputs": [
    {
     "name": "stdout",
     "output_type": "stream",
     "text": [
      "{'base': 'stations',\n",
      " 'clouds': {'all': 90},\n",
      " 'cod': 200,\n",
      " 'coord': {'lat': 48.86, 'lon': 2.35},\n",
      " 'dt': 1578338058,\n",
      " 'id': 2988507,\n",
      " 'main': {'feels_like': 30.51,\n",
      "          'humidity': 75,\n",
      "          'pressure': 1025,\n",
      "          'temp': 41,\n",
      "          'temp_max': 42.01,\n",
      "          'temp_min': 39.99},\n",
      " 'name': 'Paris',\n",
      " 'sys': {'country': 'FR',\n",
      "         'id': 6540,\n",
      "         'sunrise': 1578296602,\n",
      "         'sunset': 1578326913,\n",
      "         'type': 1},\n",
      " 'timezone': 3600,\n",
      " 'visibility': 10000,\n",
      " 'weather': [{'description': 'overcast clouds',\n",
      "              'icon': '04n',\n",
      "              'id': 804,\n",
      "              'main': 'Clouds'}],\n",
      " 'wind': {'deg': 230, 'speed': 12.75}}\n"
     ]
    }
   ],
   "source": [
    "#Get sample response for reference\n",
    "\n",
    "response=requests.get(\"http://api.openweathermap.org/data/2.5/weather?appid=6f4ceb243793f6a90aeed94e4f17b8a4&units=imperial&q=paris\").json()\n",
    "pprint(response)\n"
   ]
  }
 ],
 "metadata": {
  "kernelspec": {
   "display_name": "Python 3",
   "language": "python",
   "name": "python3"
  },
  "language_info": {
   "codemirror_mode": {
    "name": "ipython",
    "version": 3
   },
   "file_extension": ".py",
   "mimetype": "text/x-python",
   "name": "python",
   "nbconvert_exporter": "python",
   "pygments_lexer": "ipython3",
   "version": "3.7.4"
  }
 },
 "nbformat": 4,
 "nbformat_minor": 2
}
